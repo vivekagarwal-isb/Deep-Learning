{
 "cells": [
  {
   "cell_type": "code",
   "execution_count": 4,
   "metadata": {
    "collapsed": true
   },
   "outputs": [],
   "source": [
    "import numpy as np\n",
    "import pandas as pd\n",
    "\n",
    "%matplotlib inline\n",
    "import matplotlib.pyplot as plt\n",
    "import matplotlib.cm as cm\n",
    "\n",
    "import tensorflow as tf"
   ]
  },
  {
   "cell_type": "code",
   "execution_count": 5,
   "metadata": {
    "collapsed": true
   },
   "outputs": [],
   "source": [
    "data = pd.read_csv(\"C:\\\\Users\\\\Shivu\\\\Desktop\\\\ISB\\mnist\\\\train.csv\")\n",
    "data1 = pd.read_csv(\"C:\\\\Users\\\\Shivu\\\\Desktop\\\\ISB\\mnist\\\\test.csv\")"
   ]
  },
  {
   "cell_type": "code",
   "execution_count": 6,
   "metadata": {},
   "outputs": [
    {
     "data": {
      "text/plain": [
       "(28000, 784)"
      ]
     },
     "execution_count": 6,
     "metadata": {},
     "output_type": "execute_result"
    }
   ],
   "source": [
    "data1.shape"
   ]
  },
  {
   "cell_type": "code",
   "execution_count": 7,
   "metadata": {},
   "outputs": [
    {
     "name": "stdout",
     "output_type": "stream",
     "text": [
      "images(42000,784)\n"
     ]
    }
   ],
   "source": [
    "images = data.iloc[:,1:].values\n",
    "images = images.astype(np.float)\n",
    "\n",
    "# convert from [0:255] => [0.0:1.0]\n",
    "images = np.multiply(images, 1.0 / 255.0)\n",
    "\n",
    "print('images({0[0]},{0[1]})'.format(images.shape))"
   ]
  },
  {
   "cell_type": "code",
   "execution_count": 8,
   "metadata": {},
   "outputs": [
    {
     "name": "stdout",
     "output_type": "stream",
     "text": [
      "image_size => 784\n",
      "image_width => 28\n",
      "image_height => 28\n"
     ]
    }
   ],
   "source": [
    "image_size = images.shape[1]\n",
    "print ('image_size => {0}'.format(image_size))\n",
    "\n",
    "# in this case all images are square\n",
    "image_width = image_height = np.ceil(np.sqrt(image_size)).astype(np.uint8)\n",
    "\n",
    "print ('image_width => {0}\\nimage_height => {1}'.format(image_width,image_height))"
   ]
  },
  {
   "cell_type": "code",
   "execution_count": 9,
   "metadata": {},
   "outputs": [
    {
     "name": "stdout",
     "output_type": "stream",
     "text": [
      "image_size1 => 784\n",
      "image_width1 => 28\n",
      "image_height1 => 28\n"
     ]
    }
   ],
   "source": [
    "images1 = data1.values\n",
    "images1 = images1.astype(np.float)\n",
    "image_size1 = data1.shape[1]\n",
    "print ('image_size1 => {0}'.format(image_size))\n",
    "\n",
    "# in this case all images are square\n",
    "image_width1 = image_height1 = np.ceil(np.sqrt(image_size1)).astype(np.uint8)\n",
    "\n",
    "print ('image_width1 => {0}\\nimage_height1 => {1}'.format(image_width1,image_height1))"
   ]
  },
  {
   "cell_type": "code",
   "execution_count": 16,
   "metadata": {},
   "outputs": [
    {
     "data": {
      "image/png": "[encoded data removed]",
      "text/plain": [
       "<matplotlib.figure.Figure at 0x2aa1561f6a0>"
      ]
     },
     "metadata": {},
     "output_type": "display_data"
    }
   ],
   "source": [
    "# display image\n",
    "def display(img):\n",
    "    \n",
    "    # (784) => (28,28)\n",
    "    one_image = img.reshape(image_width,image_height)\n",
    "    \n",
    "    plt.axis('off')\n",
    "    plt.imshow(one_image, cmap=cm.Blues)\n",
    "\n",
    "# output image     \n",
    "display(images[10])"
   ]
  },
  {
   "cell_type": "code",
   "execution_count": 15,
   "metadata": {},
   "outputs": [
    {
     "data": {
      "image/png": "[encoded data removed]",
      "text/plain": [
       "<matplotlib.figure.Figure at 0x2aa155d22b0>"
      ]
     },
     "metadata": {},
     "output_type": "display_data"
    }
   ],
   "source": [
    "# display image\n",
    "def display(img):\n",
    "    \n",
    "    # (784) => (28,28)\n",
    "    one_image = img.reshape(image_width1,image_height1)\n",
    "    \n",
    "    plt.axis('off')\n",
    "    plt.imshow(one_image, cmap=cm.Blues)\n",
    "\n",
    "# output image     \n",
    "display(images1[10])"
   ]
  },
  {
   "cell_type": "code",
   "execution_count": 17,
   "metadata": {},
   "outputs": [
    {
     "name": "stdout",
     "output_type": "stream",
     "text": [
      "[1 0 1 ..., 7 6 9]\n",
      "10\n"
     ]
    }
   ],
   "source": [
    "####There is no test label\n",
    "labels_flat = data.iloc[:,0].values.ravel()\n",
    "labels_count = np.unique(labels_flat).shape[0]\n",
    "print (labels_flat)\n",
    "print (labels_count)"
   ]
  },
  {
   "cell_type": "code",
   "execution_count": 18,
   "metadata": {},
   "outputs": [
    {
     "name": "stdout",
     "output_type": "stream",
     "text": [
      "[0 0 0 ..., 0 0 0]\n",
      "1\n"
     ]
    }
   ],
   "source": [
    "labels_flat1 = data1.iloc[:,0].values.ravel()\n",
    "labels_count1 = np.unique(labels_flat1).shape[0]\n",
    "print (labels_flat1)\n",
    "print (labels_count1)"
   ]
  },
  {
   "cell_type": "code",
   "execution_count": 21,
   "metadata": {},
   "outputs": [
    {
     "name": "stdout",
     "output_type": "stream",
     "text": [
      "labels(42000,10)\n",
      "labels[10] => [0 0 0 0 0 0 0 0 1 0]\n"
     ]
    }
   ],
   "source": [
    "def dense_to_one_hot(labels_dense, num_classes):\n",
    "    num_labels = labels_dense.shape[0]\n",
    "    index_offset = np.arange(num_labels) * num_classes\n",
    "    labels_one_hot = np.zeros((num_labels, num_classes))\n",
    "    labels_one_hot.flat[index_offset + labels_dense.ravel()] = 1\n",
    "    return labels_one_hot\n",
    "\n",
    "labels = dense_to_one_hot(labels_flat, labels_count)\n",
    "labels = labels.astype(np.uint8)\n",
    "\n",
    "print('labels({0[0]},{0[1]})'.format(labels.shape))\n",
    "print ('labels[{0}] => {1}'.format(10,labels[10]))"
   ]
  },
  {
   "cell_type": "markdown",
   "metadata": {},
   "source": [
    "Deep Learning on MNIST data"
   ]
  },
  {
   "cell_type": "code",
   "execution_count": 1,
   "metadata": {},
   "outputs": [
    {
     "name": "stdout",
     "output_type": "stream",
     "text": [
      "Extracting MNIST_data/train-images-idx3-ubyte.gz\n",
      "Extracting MNIST_data/train-labels-idx1-ubyte.gz\n",
      "Extracting MNIST_data/t10k-images-idx3-ubyte.gz\n",
      "Extracting MNIST_data/t10k-labels-idx1-ubyte.gz\n"
     ]
    }
   ],
   "source": [
    "from tensorflow.examples.tutorials.mnist import input_data\n",
    "mnist = input_data.read_data_sets(\"MNIST_data/\", one_hot=True)"
   ]
  },
  {
   "cell_type": "code",
   "execution_count": 39,
   "metadata": {
    "collapsed": true
   },
   "outputs": [],
   "source": [
    "# Parameters\n",
    "learning_rate = 0.01\n",
    "training_epochs = 100\n",
    "batch_size = 1000\n",
    "display_step = 1"
   ]
  },
  {
   "cell_type": "code",
   "execution_count": 32,
   "metadata": {
    "collapsed": true
   },
   "outputs": [],
   "source": [
    "def inference(x):\n",
    "    init = tf.constant_initializer(value=0)\n",
    "    W = tf.get_variable(\"W\", [784, 10],\n",
    "                         initializer=init)\n",
    "    b = tf.get_variable(\"b\", [10],\n",
    "                         initializer=init)\n",
    "    output = tf.nn.softmax(tf.matmul(x, W) + b)\n",
    "\n",
    "    w_hist = tf.summary.histogram(\"weights\", W)\n",
    "    b_hist = tf.summary.histogram(\"biases\", b)\n",
    "    y_hist = tf.summary.histogram(\"output\", output)\n",
    "\n",
    "    return output"
   ]
  },
  {
   "cell_type": "code",
   "execution_count": 33,
   "metadata": {
    "collapsed": true
   },
   "outputs": [],
   "source": [
    "def loss(output, y):   \n",
    "    loss = tf.reduce_mean(-tf.reduce_sum(y * tf.log(output), axis=1))\n",
    "    return loss"
   ]
  },
  {
   "cell_type": "code",
   "execution_count": 34,
   "metadata": {
    "collapsed": true
   },
   "outputs": [],
   "source": [
    "def training(cost, global_step):\n",
    "    tf.summary.scalar(\"cost\", cost)\n",
    "    optimizer = tf.train.GradientDescentOptimizer(learning_rate)\n",
    "    train_op = optimizer.minimize(cost, global_step=global_step)\n",
    "\n",
    "    return train_op"
   ]
  },
  {
   "cell_type": "code",
   "execution_count": 35,
   "metadata": {
    "collapsed": true
   },
   "outputs": [],
   "source": [
    "def evaluate(output, y):\n",
    "    correct_prediction = tf.equal(tf.argmax(output, 1), tf.argmax(y, 1))\n",
    "    accuracy = tf.reduce_mean(tf.cast(correct_prediction, tf.float32))\n",
    "\n",
    "    tf.summary.scalar(\"validation error\", (1.0 - accuracy))\n",
    "\n",
    "    return accuracy"
   ]
  },
  {
   "cell_type": "code",
   "execution_count": 36,
   "metadata": {},
   "outputs": [
    {
     "name": "stdout",
     "output_type": "stream",
     "text": [
      "INFO:tensorflow:Summary name validation error is illegal; using validation_error instead.\n",
      "WARNING:tensorflow:Passing a `GraphDef` to the SummaryWriter is deprecated. Pass a `Graph` object instead, such as `sess.graph`.\n"
     ]
    }
   ],
   "source": [
    "with tf.Graph().as_default():\n",
    "\n",
    "        x = tf.placeholder(\"float\", [None, 784]) # mnist data image of shape 28*28=784\n",
    "        y = tf.placeholder(\"float\", [None, 10]) # 0-9 digits recognition => 10 classes\n",
    "\n",
    "\n",
    "        output = inference(x)\n",
    "\n",
    "        cost = loss(output, y)\n",
    "\n",
    "        global_step = tf.Variable(0, name='global_step', trainable=False)\n",
    "\n",
    "        train_op = training(cost, global_step)\n",
    "\n",
    "        eval_op = evaluate(output, y)\n",
    "\n",
    "        summary_op = tf.summary.merge_all()\n",
    "\n",
    "        saver = tf.train.Saver()\n",
    "\n",
    "        sess = tf.Session()\n",
    "\n",
    "        summary_writer = tf.summary.FileWriter(\"logistic_logs/\",\n",
    "                                            graph_def=sess.graph_def)\n",
    "\n",
    "        \n",
    "        init_op = tf.global_variables_initializer()\n",
    "\n",
    "        sess.run(init_op)\n",
    "        "
   ]
  },
  {
   "cell_type": "code",
   "execution_count": 40,
   "metadata": {},
   "outputs": [
    {
     "name": "stdout",
     "output_type": "stream",
     "text": [
      "Epoch: 0001 cost = 0.658538747\n",
      "Validation Error: 0.136799991131\n",
      "Epoch: 0002 cost = 0.644950986\n",
      "Validation Error: 0.135800004005\n",
      "Epoch: 0003 cost = 0.636945637\n",
      "Validation Error: 0.134400010109\n",
      "Epoch: 0004 cost = 0.625954048\n",
      "Validation Error: 0.132799983025\n",
      "Epoch: 0005 cost = 0.616062401\n",
      "Validation Error: 0.131399989128\n",
      "Epoch: 0006 cost = 0.607994707\n",
      "Validation Error: 0.130999982357\n",
      "Epoch: 0007 cost = 0.597444797\n",
      "Validation Error: 0.129599988461\n",
      "Epoch: 0008 cost = 0.592901430\n",
      "Validation Error: 0.129400014877\n",
      "Epoch: 0009 cost = 0.586489531\n",
      "Validation Error: 0.12760001421\n",
      "Epoch: 0010 cost = 0.577328564\n",
      "Validation Error: 0.126600027084\n",
      "Epoch: 0011 cost = 0.575177935\n",
      "Validation Error: 0.125800013542\n",
      "Epoch: 0012 cost = 0.562760326\n",
      "Validation Error: 0.125599980354\n",
      "Epoch: 0013 cost = 0.561457309\n",
      "Validation Error: 0.124199986458\n",
      "Epoch: 0014 cost = 0.552553233\n",
      "Validation Error: 0.124000012875\n",
      "Epoch: 0015 cost = 0.549544871\n",
      "Validation Error: 0.123399972916\n",
      "Epoch: 0016 cost = 0.542220132\n",
      "Validation Error: 0.12239998579\n",
      "Epoch: 0017 cost = 0.541639389\n",
      "Validation Error: 0.122200012207\n",
      "Epoch: 0018 cost = 0.535638561\n",
      "Validation Error: 0.121599972248\n",
      "Epoch: 0019 cost = 0.531113099\n",
      "Validation Error: 0.120999991894\n",
      "Epoch: 0020 cost = 0.525132074\n",
      "Validation Error: 0.120999991894\n",
      "Epoch: 0021 cost = 0.523311127\n",
      "Validation Error: 0.120800018311\n",
      "Epoch: 0022 cost = 0.520375494\n",
      "Validation Error: 0.120400011539\n",
      "Epoch: 0023 cost = 0.516838647\n",
      "Validation Error: 0.120000004768\n",
      "Epoch: 0024 cost = 0.514516482\n",
      "Validation Error: 0.119799971581\n",
      "Epoch: 0025 cost = 0.503126162\n",
      "Validation Error: 0.118799984455\n",
      "Epoch: 0026 cost = 0.503605425\n",
      "Validation Error: 0.118399977684\n",
      "Epoch: 0027 cost = 0.502698099\n",
      "Validation Error: 0.116999983788\n",
      "Epoch: 0028 cost = 0.498681877\n",
      "Validation Error: 0.117200016975\n",
      "Epoch: 0029 cost = 0.498386908\n",
      "Validation Error: 0.116800010204\n",
      "Epoch: 0030 cost = 0.491267629\n",
      "Validation Error: 0.116199970245\n",
      "Epoch: 0031 cost = 0.493397547\n",
      "Validation Error: 0.11519998312\n",
      "Epoch: 0032 cost = 0.485194334\n",
      "Validation Error: 0.115000009537\n",
      "Epoch: 0033 cost = 0.484397145\n",
      "Validation Error: 0.114600002766\n",
      "Epoch: 0034 cost = 0.484399825\n",
      "Validation Error: 0.114799976349\n",
      "Epoch: 0035 cost = 0.480771100\n",
      "Validation Error: 0.114000022411\n",
      "Epoch: 0036 cost = 0.476780166\n",
      "Validation Error: 0.11360001564\n",
      "Epoch: 0037 cost = 0.475804317\n",
      "Validation Error: 0.112600028515\n",
      "Epoch: 0038 cost = 0.473314670\n",
      "Validation Error: 0.112399995327\n",
      "Epoch: 0039 cost = 0.469995341\n",
      "Validation Error: 0.111800014973\n",
      "Epoch: 0040 cost = 0.470096298\n",
      "Validation Error: 0.111199975014\n",
      "Epoch: 0041 cost = 0.466732875\n",
      "Validation Error: 0.111199975014\n",
      "Epoch: 0042 cost = 0.464395134\n",
      "Validation Error: 0.110800027847\n",
      "Epoch: 0043 cost = 0.463583726\n",
      "Validation Error: 0.110400021076\n",
      "Epoch: 0044 cost = 0.459504244\n",
      "Validation Error: 0.110599994659\n",
      "Epoch: 0045 cost = 0.460861649\n",
      "Validation Error: 0.110199987888\n",
      "Epoch: 0046 cost = 0.458166981\n",
      "Validation Error: 0.110199987888\n",
      "Epoch: 0047 cost = 0.456740728\n",
      "Validation Error: 0.110199987888\n",
      "Epoch: 0048 cost = 0.456829980\n",
      "Validation Error: 0.110000014305\n",
      "Epoch: 0049 cost = 0.448382185\n",
      "Validation Error: 0.110400021076\n",
      "Epoch: 0050 cost = 0.451907887\n",
      "Validation Error: 0.110000014305\n",
      "Epoch: 0051 cost = 0.449875667\n",
      "Validation Error: 0.109600007534\n",
      "Epoch: 0052 cost = 0.446020985\n",
      "Validation Error: 0.109399974346\n",
      "Epoch: 0053 cost = 0.447464235\n",
      "Validation Error: 0.109399974346\n",
      "Epoch: 0054 cost = 0.445103414\n",
      "Validation Error: 0.108799993992\n",
      "Epoch: 0055 cost = 0.443089585\n",
      "Validation Error: 0.108399987221\n",
      "Epoch: 0056 cost = 0.442565826\n",
      "Validation Error: 0.108399987221\n",
      "Epoch: 0057 cost = 0.439162480\n",
      "Validation Error: 0.108399987221\n",
      "Epoch: 0058 cost = 0.439884049\n",
      "Validation Error: 0.10799998045\n",
      "Epoch: 0059 cost = 0.439189089\n",
      "Validation Error: 0.108200013638\n",
      "Epoch: 0060 cost = 0.435280678\n",
      "Validation Error: 0.107800006866\n",
      "Epoch: 0061 cost = 0.436428867\n",
      "Validation Error: 0.106999993324\n",
      "Epoch: 0062 cost = 0.433208421\n",
      "Validation Error: 0.106599986553\n",
      "Epoch: 0063 cost = 0.434204246\n",
      "Validation Error: 0.106599986553\n",
      "Epoch: 0064 cost = 0.426964245\n",
      "Validation Error: 0.10640001297\n",
      "Epoch: 0065 cost = 0.432263741\n",
      "Validation Error: 0.10640001297\n",
      "Epoch: 0066 cost = 0.428506126\n",
      "Validation Error: 0.10640001297\n",
      "Epoch: 0067 cost = 0.429417819\n",
      "Validation Error: 0.106199979782\n",
      "Epoch: 0068 cost = 0.426453828\n",
      "Validation Error: 0.106199979782\n",
      "Epoch: 0069 cost = 0.424968366\n",
      "Validation Error: 0.106000006199\n",
      "Epoch: 0070 cost = 0.425564972\n",
      "Validation Error: 0.106000006199\n",
      "Epoch: 0071 cost = 0.421604156\n",
      "Validation Error: 0.105400025845\n",
      "Epoch: 0072 cost = 0.425553448\n",
      "Validation Error: 0.105400025845\n",
      "Epoch: 0073 cost = 0.419589948\n",
      "Validation Error: 0.105599999428\n",
      "Epoch: 0074 cost = 0.419451934\n",
      "Validation Error: 0.105000019073\n",
      "Epoch: 0075 cost = 0.418454210\n",
      "Validation Error: 0.105000019073\n",
      "Epoch: 0076 cost = 0.418675589\n",
      "Validation Error: 0.105000019073\n",
      "Epoch: 0077 cost = 0.414556915\n",
      "Validation Error: 0.105000019073\n",
      "Epoch: 0078 cost = 0.421665785\n",
      "Validation Error: 0.104600012302\n",
      "Epoch: 0079 cost = 0.414346320\n",
      "Validation Error: 0.104600012302\n",
      "Epoch: 0080 cost = 0.415090162\n",
      "Validation Error: 0.104399979115\n",
      "Epoch: 0081 cost = 0.414577273\n",
      "Validation Error: 0.104200005531\n",
      "Epoch: 0082 cost = 0.411736745\n",
      "Validation Error: 0.104399979115\n",
      "Epoch: 0083 cost = 0.412394693\n",
      "Validation Error: 0.104200005531\n",
      "Epoch: 0084 cost = 0.410569084\n",
      "Validation Error: 0.103999972343\n",
      "Epoch: 0085 cost = 0.409330057\n",
      "Validation Error: 0.103999972343\n",
      "Epoch: 0086 cost = 0.407211923\n",
      "Validation Error: 0.103999972343\n",
      "Epoch: 0087 cost = 0.411039271\n",
      "Validation Error: 0.103999972343\n",
      "Epoch: 0088 cost = 0.407016742\n",
      "Validation Error: 0.103600025177\n",
      "Epoch: 0089 cost = 0.408623449\n",
      "Validation Error: 0.103200018406\n",
      "Epoch: 0090 cost = 0.406199706\n",
      "Validation Error: 0.102800011635\n",
      "Epoch: 0091 cost = 0.405817158\n",
      "Validation Error: 0.102400004864\n",
      "Epoch: 0092 cost = 0.405870748\n",
      "Validation Error: 0.102199971676\n",
      "Epoch: 0093 cost = 0.405514561\n",
      "Validation Error: 0.101800024509\n",
      "Epoch: 0094 cost = 0.399932248\n",
      "Validation Error: 0.102199971676\n",
      "Epoch: 0095 cost = 0.400758721\n",
      "Validation Error: 0.102199971676\n",
      "Epoch: 0096 cost = 0.401100358\n",
      "Validation Error: 0.101800024509\n",
      "Epoch: 0097 cost = 0.404851682\n",
      "Validation Error: 0.101800024509\n",
      "Epoch: 0098 cost = 0.400417076\n",
      "Validation Error: 0.101800024509\n",
      "Epoch: 0099 cost = 0.397324045\n",
      "Validation Error: 0.101800024509\n",
      "Epoch: 0100 cost = 0.399985776\n",
      "Validation Error: 0.10119998455\n",
      "Optimization Finished!\n",
      "Test Accuracy: 0.9004\n"
     ]
    }
   ],
   "source": [
    " # Training cycle\n",
    "for epoch in range(training_epochs):\n",
    "\n",
    "            avg_cost = 0.\n",
    "            total_batch = int(40000/batch_size)\n",
    "            # Loop over all batches\n",
    "            for i in range(total_batch):\n",
    "                minibatch_x, minibatch_y = mnist.train.next_batch(batch_size)\n",
    "                # Fit training using batch data\n",
    "                sess.run(train_op, feed_dict={x: minibatch_x, y: minibatch_y})\n",
    "                # Compute average loss\n",
    "                avg_cost += sess.run(cost, feed_dict={x: minibatch_x, y: minibatch_y})/total_batch\n",
    "            # Display logs per epoch step\n",
    "            if epoch % display_step == 0:\n",
    "                print(\"Epoch:\", '%04d' % (epoch+1), \"cost =\", \"{:.9f}\".format(avg_cost))\n",
    "\n",
    "                accuracy = sess.run(eval_op, feed_dict={x: mnist.validation.images, y: mnist.validation.labels})\n",
    "\n",
    "                print(\"Validation Error:\", (1 - accuracy))\n",
    "               \n",
    "                \n",
    "\n",
    "                summary_str = sess.run(summary_op, feed_dict={x: minibatch_x, y: minibatch_y})\n",
    "                summary_writer.add_summary(summary_str, sess.run(global_step))\n",
    "\n",
    "                saver.save(sess, \"logistic_logs/model-checkpoint\", global_step=global_step)\n",
    "\n",
    "\n",
    "print(\"Optimization Finished!\")\n",
    "\n",
    "\n",
    "accuracy = sess.run(eval_op, feed_dict={x: mnist.test.images, y: mnist.test.labels})\n",
    "\n",
    "print(\"Test Accuracy:\", accuracy)"
   ]
  },
  {
   "cell_type": "code",
   "execution_count": null,
   "metadata": {
    "collapsed": true
   },
   "outputs": [],
   "source": []
  }
 ],
 "metadata": {
  "kernelspec": {
   "display_name": "Python 3",
   "language": "python",
   "name": "python3"
  },
  "language_info": {
   "codemirror_mode": {
    "name": "ipython",
    "version": 3
   },
   "file_extension": ".py",
   "mimetype": "text/x-python",
   "name": "python",
   "nbconvert_exporter": "python",
   "pygments_lexer": "ipython3",
   "version": "3.5.2"
  }
 },
 "nbformat": 4,
 "nbformat_minor": 2
}
